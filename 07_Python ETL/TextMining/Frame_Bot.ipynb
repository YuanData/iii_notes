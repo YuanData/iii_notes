{
 "cells": [
  {
   "cell_type": "code",
   "execution_count": null,
   "metadata": {
    "collapsed": true
   },
   "outputs": [],
   "source": [
    "###  ====================== 前端測試區 - 跟資料庫調用資料 =========================\n",
    "# coding:utf-8\n",
    "import pymongo\n",
    "import json\n",
    "import jieba\n",
    "import re\n",
    "import os  \n",
    "import sys \n",
    "\n",
    "### 建立MongoDB連線\n",
    "client = pymongo.MongoClient(\"54.249.57.118\", 27017)\n",
    "db = client['spadeAce']\n",
    "collection = db.textMiningNews\n",
    "jieba.set_dictionary('dict.txt.big')\n",
    "  \n",
    "### 測試問句分詞結果\n",
    "def mainQuery(question):\n",
    "\n",
    "    checkQuestion1 = re.match(r'^[\\u4E00-\\u9FFFa-zA-Z\\?]+$',question )\n",
    "    ## ~ $ * 問句的開頭  ; 字母 中文 空格 為可以接受的字元\n",
    "    checkQuestion2 = re.match(r'^[\\~\\$\\*][\\u4E00-\\u9FFFa-zA-Z\\ \\-]+$',question )\n",
    "\n",
    "    ### 確認是否是層別一問題\n",
    "    if checkQuestion1 != None:\n",
    "        answer = querySlayer1(question)\n",
    "        print('layer1',answer)\n",
    "\n",
    "    ### 確認是否是層別二問題\n",
    "    elif checkQuestion2 != None and question[0] == '~':\n",
    "        answer  = querySlayer2(question)\n",
    "        if answer != 'nodata4u':\n",
    "            answerChain = ''\n",
    "            for oneAnswer in answer:  \n",
    "                answerChain+=oneAnswer['Date']+'\\n'\n",
    "                answerChain+=oneAnswer['Title']+'\\n'\n",
    "                answerChain+=oneAnswer['Link']+'\\n'\n",
    "            print(type(answerChain))\n",
    "        else:\n",
    "            print('layer2','nodata4u')\n",
    "    ### 確認是否是層別三問題\n",
    "    elif checkQuestion2 != None and question[0] == '$':\n",
    "        answer  = querySlayer3 (question)\n",
    "        print('layer3',answer)\n",
    "\n",
    "    ### 確認是否是層別四問題\n",
    "    elif checkQuestion2 != None and question[0] == '*':\n",
    "        answer  = querySlayer4 (question)\n",
    "        print('layer4',answer)\n",
    "    \n",
    "    else:\n",
    "        print('really '+'nodata4u')\n",
    "        \n",
    "    \n",
    "question = input(\"Input:\" )\n",
    "mainQuery(question)"
   ]
  },
  {
   "cell_type": "code",
   "execution_count": null,
   "metadata": {
    "collapsed": true
   },
   "outputs": [],
   "source": [
    "###  ====================== 前端測試區 - 跟資料庫調用資料 =========================\n",
    "\n",
    "### 問句層別 1 : Simple Coversaton\n",
    "def querySlayer1(question):\n",
    "    with open('conversation.json', 'r',encoding='utf-8') as f:\n",
    "        tmpY = []\n",
    "        tmpN = []\n",
    "        conDict = json.load(f)\n",
    "        cutQuestion = jieba.cut(question, cut_all=False)\n",
    "        ### 這邊要先作分流，把可以回答的字先裝起來\n",
    "        for word in cutQuestion:\n",
    "            if word in conDict.keys():\n",
    "                tmpY.append(word)\n",
    "            else:\n",
    "                tmpN.append(word)\n",
    "        \n",
    "        if tmpY:\n",
    "            ### 這邊是針對問句中的最先抓到的關鍵字回覆，嘿~\n",
    "            return conDict[tmpY[0]]\n",
    "        else:\n",
    "            return 'nodata4u'\n",
    "\n",
    "###  ====================== 前端測試區 - 跟資料庫調用資料 =========================\n",
    "\n",
    "### 問句層別 2 : Gamelog & News\n",
    "def querySlayer2 (question):\n",
    "    answerList = []\n",
    "    keyWord = question[1::].lower()\n",
    "    result = collection.find().sort('Date',-1)\n",
    "    for oneResult in result:\n",
    "        if keyWord in oneResult['Tag'] or keyWord in  oneResult['TagByName'] :\n",
    "            answerList.append(oneResult)\n",
    "    ### 如果有資料就給前三比，沒有就給default\n",
    "    if answerList:\n",
    "        return answerList[0:3]\n",
    "    else:\n",
    "        return 'nodata4u'"
   ]
  },
  {
   "cell_type": "code",
   "execution_count": null,
   "metadata": {
    "collapsed": true
   },
   "outputs": [],
   "source": [
    "###  ====================== 前端測試區 - 跟資料庫調用資料 =========================\n",
    "\n",
    "### 問句層別 3 : Analysis\n",
    "### def querySlayer3 (keyWord):"
   ]
  },
  {
   "cell_type": "code",
   "execution_count": null,
   "metadata": {
    "collapsed": true
   },
   "outputs": [],
   "source": [
    "###  ====================== 前端測試區 - 跟資料庫調用資料 =========================\n",
    "\n",
    "### 問句層別 4 : Analysis\n",
    "def querySlayer4 (keyWord):\n",
    "    print(' ')"
   ]
  },
  {
   "cell_type": "code",
   "execution_count": null,
   "metadata": {
    "collapsed": true
   },
   "outputs": [],
   "source": [
    "### 讀入問句記錄檔案\n",
    "f = open('logQuery.txt','r',encoding='utf-8')\n",
    "info = []\n",
    "\n",
    "aline = f.readline()\n",
    "\n",
    "for aline in f:\n",
    "    info.append(aline)\n",
    "\n",
    "f.close()\n"
   ]
  },
  {
   "cell_type": "code",
   "execution_count": null,
   "metadata": {
    "collapsed": true
   },
   "outputs": [],
   "source": [
    "#### 找出無法滿足使用者的問句\n",
    "for oneInfo in info:\n",
    "    try:\n",
    "        a = oneInfo.split('++++++++++++++++++++')[0]\n",
    "        b = oneInfo.split('++++++++++++++++++++')[1]\n",
    "        c = oneInfo.split('++++++++++++++++++++')[2]\n",
    "    except:\n",
    "        print('空陣列，OK',oneInfo)\n",
    "        \n",
    "ttlQuary = []\n",
    "perQuary= {}\n",
    "\n",
    "for oneInfo in info:\n",
    "    perQuary= {}\n",
    "    print(oneInfo.split('++++++++++++++++++++')[0].split('SenderID: ')[1])\n",
    "    print(oneInfo.split('++++++++++++++++++++')[1].split('Question ')[1])\n",
    "    print(oneInfo.split('++++++++++++++++++++')[2].split('Answer: ')[1])\n",
    "    perQuary['User'] = oneInfo.split('++++++++++++++++++++')[0].split('SenderID: ')[1]\n",
    "    perQuary['Question'] = oneInfo.split('++++++++++++++++++++')[1].split('Question ')[1]\n",
    "    perQuary['Answer'] = oneInfo.split('++++++++++++++++++++')[2].split('Answer: ')[1]\n",
    "    ttlQuary.append(perQuary)"
   ]
  },
  {
   "cell_type": "code",
   "execution_count": null,
   "metadata": {
    "collapsed": true
   },
   "outputs": [],
   "source": [
    "### 層別一 需要解決的客戶問題\n",
    "\n",
    "for pbQuary in ttlQuary:\n",
    "    if pbQuary['Answer'] == 'nodata4u\\n' and  pbQuary['Question'][0] == '1':\n",
    "        print(pbQuary)"
   ]
  },
  {
   "cell_type": "code",
   "execution_count": null,
   "metadata": {
    "collapsed": true
   },
   "outputs": [],
   "source": [
    "### 層別二 需要解決的客戶問題\n",
    "\n",
    "for pbQuary in ttlQuary:\n",
    "    if pbQuary['Answer'] == 'nodata4u\\n' and  pbQuary['Question'][0] == '2':\n",
    "        print(pbQuary)"
   ]
  }
 ],
 "metadata": {
  "anaconda-cloud": {},
  "kernelspec": {
   "display_name": "Python [default]",
   "language": "python",
   "name": "python3"
  },
  "language_info": {
   "codemirror_mode": {
    "name": "ipython",
    "version": 3
   },
   "file_extension": ".py",
   "mimetype": "text/x-python",
   "name": "python",
   "nbconvert_exporter": "python",
   "pygments_lexer": "ipython3",
   "version": "3.5.2"
  }
 },
 "nbformat": 4,
 "nbformat_minor": 1
}

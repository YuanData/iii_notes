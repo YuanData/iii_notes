{
 "cells": [
  {
   "cell_type": "code",
   "execution_count": 5,
   "metadata": {
    "collapsed": true
   },
   "outputs": [],
   "source": [
    "# -*- coding:utf-8 -*-\n",
    "### 裝填需要備份的資料\n",
    "import pymongo\n",
    "\n",
    "client = pymongo.MongoClient('54.249.28.205',27017)\n",
    "db = client['spadeAce']\n",
    "collection3 = db.mlbNews\n",
    "c = collection3.find()\n",
    "\n",
    "tmp = []\n",
    "tmpDict = {}\n",
    "for i in c:\n",
    "    tmpDict = {}\n",
    "    tmpDict['Content'] = i['Content']\n",
    "    tmpDict['Link'] = i['Link']\n",
    "    tmpDict['Title'] = i['Title']\n",
    "    tmpDict['Date'] = i['Date']\n",
    "    tmpDict['Tag'] = i['Tag']\n",
    "    tmpDict['TagByName'] = i['TagByName']\n",
    "    tmpDict['YearDate'] = i['YearDate']\n",
    "    tmp.append(tmpDict)\n",
    "    \n",
    "\n",
    "\n",
    "\n",
    "client.close()"
   ]
  },
  {
   "cell_type": "code",
   "execution_count": 6,
   "metadata": {
    "collapsed": false
   },
   "outputs": [
    {
     "name": "stderr",
     "output_type": "stream",
     "text": [
      "C:\\Users\\BIG DATA\\Anaconda3\\lib\\site-packages\\ipykernel\\__main__.py:9: DeprecationWarning: insert is deprecated. Use insert_one or insert_many instead.\n"
     ]
    }
   ],
   "source": [
    "### 把上方的TMP資料接進來傳進去指定資料庫\n",
    "\n",
    "import pymongo\n",
    "\n",
    "##client = pymongo.MongoClient('localhost',27017)\n",
    "client = pymongo.MongoClient('66.66.100.118',27017)\n",
    "db = client['spadeAce']\n",
    "collection3v = db.mlbNews\n",
    "\n",
    "for i in tmp:\n",
    "    if collection3v.find_one({'Link':i['Link']}) == None:\n",
    "        collection3v.insert(i)\n",
    "        print(i['Title'])\n",
    "    \n",
    "client.close()"
   ]
  },
  {
   "cell_type": "code",
   "execution_count": 13,
   "metadata": {
    "collapsed": false
   },
   "outputs": [],
   "source": [
    "# -*- coding:utf-8 -*-\n",
    "### 裝填需要備份的資料\n",
    "import pymongo\n",
    "\n",
    "\n",
    "###  先讀出資料庫的資料，紀錄每個URL\n",
    "client1 = pymongo.MongoClient('66.66.100.118',27017)\n",
    "\n",
    "\n",
    "db1 = client1['spadeAce']\n",
    "collection1 = db1.mlbNews\n",
    "c1 = collection1.find()\n",
    "\n",
    "c1List = []\n",
    "\n",
    "\n",
    "for i in c1:\n",
    "    c1List.append(i['Link'])\n",
    "\n",
    "    \n",
    "    \n",
    "\n",
    "    \n",
    "client2 = pymongo.MongoClient('54.249.28.205',27017)\n",
    "\n",
    "\n",
    "\n",
    "db1 = client2['spadeAce']\n",
    "collection2 = db2.mlbNews\n",
    "c2 = collection2.find()\n",
    "\n",
    "\n",
    "c2List = []\n",
    "\n",
    "\n",
    "\n",
    "\n",
    "\n",
    "\n",
    "\n",
    "\n",
    "\n",
    "client1.close()\n",
    "##client2.close()\n",
    "\n",
    "\n",
    "\n",
    "\n",
    "\n",
    "\n",
    "\n",
    "\n",
    "\n",
    "\n",
    "\n",
    "\n",
    "\n",
    "\n",
    "\n",
    "\n",
    "\n",
    "\n"
   ]
  },
  {
   "cell_type": "code",
   "execution_count": 14,
   "metadata": {
    "collapsed": false
   },
   "outputs": [
    {
     "data": {
      "text/plain": [
       "'http://sports.ettoday.net/news/233895'"
      ]
     },
     "execution_count": 14,
     "metadata": {},
     "output_type": "execute_result"
    }
   ],
   "source": [
    "c1List[0]"
   ]
  }
 ],
 "metadata": {
  "anaconda-cloud": {},
  "kernelspec": {
   "display_name": "Python [default]",
   "language": "python",
   "name": "python3"
  },
  "language_info": {
   "codemirror_mode": {
    "name": "ipython",
    "version": 3
   },
   "file_extension": ".py",
   "mimetype": "text/x-python",
   "name": "python",
   "nbconvert_exporter": "python",
   "pygments_lexer": "ipython3",
   "version": "3.5.2"
  }
 },
 "nbformat": 4,
 "nbformat_minor": 1
}

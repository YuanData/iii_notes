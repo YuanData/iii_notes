{
 "cells": [
  {
   "cell_type": "code",
   "execution_count": null,
   "metadata": {
    "collapsed": true
   },
   "outputs": [],
   "source": [
    "### 正規表達法練習\n",
    "\n",
    "import re\n",
    "\n",
    "a = '我叫作awei唷'\n",
    "b = '也叫座(a-wei)唷'\n",
    "c = '也可以叫作(a wei)唷壓'\n",
    "d = '還可以教作，a wei你知道嗎'\n",
    "\n",
    "e = [a,b,c,d]\n",
    "\n",
    "\n",
    "for i in e:\n",
    "    m = re.match(r'^[^\\u4E00-\\u9FFF]+', i)\n",
    "    print(m)\n",
    "    \n",
    "    \n",
    "b = 'Awei'\n",
    "sentence = '我是Awei'\n",
    "\n",
    "vw=re.findall(b, sentence)\n",
    "\n",
    "if b == (vw[0]):\n",
    "    print(sentence)\n",
    "\n",
    "\n",
    "sentt = '各位好我是AWei'\n",
    "keyWord = 'Awei'\n",
    "\n",
    "sentt.find(keyWord)\n",
    "\n",
    "\n",
    "\n",
    "\n",
    "pat = '[a-zA-Z{\" \"}{.}{,}{-}a-zA-Z]+'\n",
    "\n",
    "a = '我叫作awei唷'\n",
    "b = '也叫座(a-wei)唷'\n",
    "c = '也可以叫作(a wei)唷壓'\n",
    "d = '還可以教作，a wei你知道嗎'\n",
    "e = '還可以教作，[a, wei]你知道嗎'\n",
    "\n",
    "z = [a,b,c,d,e]\n",
    "\n",
    "for i in z:\n",
    "    a=re.findall(pat, i)\n",
    "    print(a[0])"
   ]
  }
 ],
 "metadata": {
  "kernelspec": {
   "display_name": "Python [conda root]",
   "language": "python",
   "name": "conda-root-py"
  },
  "language_info": {
   "codemirror_mode": {
    "name": "ipython",
    "version": 3
   },
   "file_extension": ".py",
   "mimetype": "text/x-python",
   "name": "python",
   "nbconvert_exporter": "python",
   "pygments_lexer": "ipython3",
   "version": "3.5.2"
  }
 },
 "nbformat": 4,
 "nbformat_minor": 1
}
